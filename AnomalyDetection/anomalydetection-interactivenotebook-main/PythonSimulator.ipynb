{
 "cells": [
  {
   "cell_type": "code",
   "execution_count": 20,
   "id": "3bcb5a61-b6f2-4c0b-8515-fc38666adbe1",
   "metadata": {},
   "outputs": [],
   "source": [
    "from google.cloud import pubsub_v1\n",
    "import json\n",
    "from datetime import datetime\n",
    "import random\n",
    "import time\n",
    "publisher = pubsub_v1.PublisherClient()"
   ]
  },
  {
   "cell_type": "code",
   "execution_count": 23,
   "id": "3f189dbc-3ba8-41c9-a37c-1fc37a6256cd",
   "metadata": {},
   "outputs": [
    {
     "name": "stdout",
     "output_type": "stream",
     "text": [
      "general-demo-364117\n"
     ]
    }
   ],
   "source": [
    "dest_project=!gcloud config get-value project\n",
    "project_id=dest_project[1]\n",
    "print(project_id)\n",
    "\n",
    "pubsub_topic                       = project_id + \"-\" + \"topic\" \n",
    "pubsub_topic_path                  = publisher.topic_path(project_id, pubsub_topic)\n"
   ]
  },
  {
   "cell_type": "code",
   "execution_count": 24,
   "id": "dc71111e-778e-4df2-8e9c-96427df99fde",
   "metadata": {},
   "outputs": [],
   "source": [
    "def simulator(number):    \n",
    "    i = 0    \n",
    "    while i <= number:\n",
    "        json_object = json.dumps({\"SensorID\":\"75c18751-7a94-453e-86f5-67be2b0c8fd4\",'Timestamp': datetime.now().strftime('%Y-%m-%d %H:%M:%S.%f')[:-3],\"SensorValue\":random.uniform(100, 300)})\n",
    "        data = json_object.encode(\"utf-8\")\n",
    "        future = publisher.publish(pubsub_topic_path, data)\n",
    "        time.sleep(0.1)\n",
    "        i= i + 1\n"
   ]
  },
  {
   "cell_type": "code",
   "execution_count": 25,
   "id": "3b84d710-7d27-4512-ae1e-5d3a618009fb",
   "metadata": {},
   "outputs": [
    {
     "ename": "KeyboardInterrupt",
     "evalue": "",
     "output_type": "error",
     "traceback": [
      "\u001b[0;31m---------------------------------------------------------------------------\u001b[0m",
      "\u001b[0;31mKeyboardInterrupt\u001b[0m                         Traceback (most recent call last)",
      "Cell \u001b[0;32mIn[25], line 2\u001b[0m\n\u001b[1;32m      1\u001b[0m \u001b[38;5;28;01mif\u001b[39;00m \u001b[38;5;18m__name__\u001b[39m \u001b[38;5;241m==\u001b[39m \u001b[38;5;124m\"\u001b[39m\u001b[38;5;124m__main__\u001b[39m\u001b[38;5;124m\"\u001b[39m:\n\u001b[0;32m----> 2\u001b[0m     \u001b[43msimulator\u001b[49m\u001b[43m(\u001b[49m\u001b[38;5;241;43m5000\u001b[39;49m\u001b[43m)\u001b[49m\n",
      "Cell \u001b[0;32mIn[24], line 7\u001b[0m, in \u001b[0;36msimulator\u001b[0;34m(number)\u001b[0m\n\u001b[1;32m      5\u001b[0m data \u001b[38;5;241m=\u001b[39m json_object\u001b[38;5;241m.\u001b[39mencode(\u001b[38;5;124m\"\u001b[39m\u001b[38;5;124mutf-8\u001b[39m\u001b[38;5;124m\"\u001b[39m)\n\u001b[1;32m      6\u001b[0m future \u001b[38;5;241m=\u001b[39m publisher\u001b[38;5;241m.\u001b[39mpublish(topic_path, data)\n\u001b[0;32m----> 7\u001b[0m \u001b[43mtime\u001b[49m\u001b[38;5;241;43m.\u001b[39;49m\u001b[43msleep\u001b[49m\u001b[43m(\u001b[49m\u001b[38;5;241;43m0.1\u001b[39;49m\u001b[43m)\u001b[49m\n\u001b[1;32m      8\u001b[0m i\u001b[38;5;241m=\u001b[39m i \u001b[38;5;241m+\u001b[39m \u001b[38;5;241m1\u001b[39m\n",
      "\u001b[0;31mKeyboardInterrupt\u001b[0m: "
     ]
    }
   ],
   "source": [
    "if __name__ == \"__main__\":\n",
    "    simulator(5000)\n"
   ]
  },
  {
   "cell_type": "code",
   "execution_count": null,
   "id": "d4303433-773d-43f3-87cb-4a2c6fee2346",
   "metadata": {},
   "outputs": [],
   "source": []
  }
 ],
 "metadata": {
  "kernelspec": {
   "display_name": "01. Apache Beam 2.45.0 for Python 3",
   "language": "python",
   "name": "01-apache-beam-2.45.0"
  },
  "language_info": {
   "codemirror_mode": {
    "name": "ipython",
    "version": 3
   },
   "file_extension": ".py",
   "mimetype": "text/x-python",
   "name": "python",
   "nbconvert_exporter": "python",
   "pygments_lexer": "ipython3",
   "version": "3.8.10"
  }
 },
 "nbformat": 4,
 "nbformat_minor": 5
}
