{
 "cells": [
  {
   "cell_type": "markdown",
   "metadata": {},
   "source": [
    "# How to run the examples on Dataflow\n",
    "\n",
    "This notebook illustrates a pipeline to stream the raw data from pub/sub to bigquery using dataflow runner and interactive runner .\n",
    "\n",
    "This pipeline processes the raw data from pub/sub and loads into Bigquery and in parallel it also windows the raw data (using fixed windowing) for every 3 seconds and calculates the mean of sensor values on the windowed data\n",
    "\n",
    "\n",
    "Note that running this example incurs a small [charge](https://cloud.google.com/dataflow/pricing) from Dataflow.\n",
    "\n",
    "Let's make sure the Dataflow API is enabled. This [allows](https://cloud.google.com/apis/docs/getting-started#enabling_apis) your project to access the Dataflow service:\n"
   ]
  },
  {
   "cell_type": "code",
   "execution_count": null,
   "metadata": {},
   "outputs": [],
   "source": [
    "!gcloud services enable dataflow"
   ]
  },
  {
   "cell_type": "markdown",
   "metadata": {},
   "source": [
    "### 1. Start with necessary imports\n"
   ]
  },
  {
   "cell_type": "code",
   "execution_count": 117,
   "metadata": {},
   "outputs": [],
   "source": [
    "import re\n",
    "import json\n",
    "from datetime import datetime\n",
    "import apache_beam as beam\n",
    "import random\n",
    "import time\n",
    "from google.cloud import pubsub_v1,bigquery\n",
    "from apache_beam.options import pipeline_options\n",
    "from apache_beam.options.pipeline_options import GoogleCloudOptions\n",
    "from apache_beam.runners import DataflowRunner\n",
    "from apache_beam.runners.interactive import interactive_runner\n",
    "from apache_beam import DoFn, GroupByKey, io, ParDo, Pipeline, PTransform, WindowInto, WithKeys,Create,Map , CombineGlobally ,dataframe\n",
    "import apache_beam.runners.interactive.interactive_beam as ib\n",
    "import google.auth\n",
    "import matplotlib.pyplot as plt\n",
    "\n",
    "publisher  = pubsub_v1.PublisherClient() #Pubsub publisher client\n",
    "subscriber = pubsub_v1.SubscriberClient() #Pubsub subscriber client\n",
    "client     = bigquery.Client() #bigquery client"
   ]
  },
  {
   "cell_type": "markdown",
   "metadata": {},
   "source": [
    "### 2. Set the variables . These variables will be referenced in later sections\n"
   ]
  },
  {
   "cell_type": "code",
   "execution_count": 42,
   "metadata": {},
   "outputs": [
    {
     "name": "stdout",
     "output_type": "stream",
     "text": [
      "general-demo-364117\n"
     ]
    }
   ],
   "source": [
    "dest_project=!gcloud config get-value project\n",
    "project_id=dest_project[1]\n",
    "print(project_id)\n",
    "\n",
    "pubsub_topic                       = project_id + \"-\" + \"topic\" \n",
    "pubsub_subscription                = pubsub_topic + \"-\" + \"sub\"\n",
    "pubsub_topic_path                  = publisher.topic_path(project_id, pubsub_topic)\n",
    "pubsub_subscription_path           = subscriber.subscription_path(project_id, pubsub_subscription)\n",
    "\n",
    "bq_dataset                         = \"anomaly_detection_demo\"\n",
    "bigquery_agg_schema                = \"sensorID:STRING,sensorValue:FLOAT,windowStart:DATETIME,windowEnd:DATETIME\"\n",
    "bigquery_raw_schema                = \"sensorID:STRING,timeStamp:DATETIME,sensorValue:FLOAT\"\n",
    "bigquery_raw_table                 = bq_dataset + \".anomaly_raw_table\" \n",
    "bigquery_agg_table                 = bq_dataset + \".anomaly_windowed_table\" \n",
    "region                             = \"us-central1\"\n",
    "bucket_name                        = project_id "
   ]
  },
  {
   "cell_type": "markdown",
   "metadata": {},
   "source": [
    "### 3: Create Pub/sub topic"
   ]
  },
  {
   "cell_type": "code",
   "execution_count": null,
   "metadata": {},
   "outputs": [],
   "source": [
    "!gcloud pubsub topics create {pubsub_topic}"
   ]
  },
  {
   "cell_type": "markdown",
   "metadata": {},
   "source": [
    "### 4: Create Pub/sub subscription"
   ]
  },
  {
   "cell_type": "code",
   "execution_count": null,
   "metadata": {},
   "outputs": [],
   "source": [
    "!gcloud pubsub subscriptions create {pubsub_subscription} --topic={pubsub_topic}"
   ]
  },
  {
   "cell_type": "markdown",
   "metadata": {},
   "source": [
    "### 5. Create BigQuery Dataset\n"
   ]
  },
  {
   "cell_type": "code",
   "execution_count": null,
   "metadata": {},
   "outputs": [],
   "source": [
    "!bq --location={region} mk --dataset {project_id}:{bq_dataset}"
   ]
  },
  {
   "cell_type": "markdown",
   "metadata": {},
   "source": [
    "### 6. Create BigQuery Tables\n",
    "\n",
    "raw big query schema\n",
    "\n",
    "![raw-schema](Images/raw-schema.png)\n",
    "\n",
    "aggregated big query schema\n",
    "![agg-schema](Images/agg-schema.png)"
   ]
  },
  {
   "cell_type": "code",
   "execution_count": null,
   "metadata": {},
   "outputs": [],
   "source": [
    "!bq mk --schema {bigquery_raw_schema} -t {bigquery_raw_table}\n",
    "!bq mk --schema {bigquery_agg_schema} -t {bigquery_agg_table}"
   ]
  },
  {
   "cell_type": "markdown",
   "metadata": {},
   "source": [
    "### 7. Create GCS Bucket  "
   ]
  },
  {
   "cell_type": "code",
   "execution_count": null,
   "metadata": {},
   "outputs": [],
   "source": [
    "!gsutil mb -c standard -l {region} gs://{bucket_name}"
   ]
  },
  {
   "cell_type": "markdown",
   "metadata": {},
   "source": [
    "### 8. IMPORTANT! open GCS bucket from console and create a folder called dataflow.\n",
    "path should be  gs://project_id/dataflow\n"
   ]
  },
  {
   "cell_type": "markdown",
   "metadata": {},
   "source": [
    "### 9. set the pipeline options"
   ]
  },
  {
   "cell_type": "code",
   "execution_count": 41,
   "metadata": {},
   "outputs": [],
   "source": [
    "# Setting up the Apache Beam pipeline options.\n",
    "options = pipeline_options.PipelineOptions(flags={})\n",
    "\n",
    "# Sets the pipeline mode to streaming, so we can stream the data from PubSub.\n",
    "options.view_as(pipeline_options.StandardOptions).streaming = True\n",
    "\n",
    "# Sets the project to the default project in your current Google Cloud environment.\n",
    "_, options.view_as(GoogleCloudOptions).project = project_id\n",
    "\n",
    "# Sets the Google Cloud Region in which Cloud Dataflow runs.\n",
    "options.view_as(GoogleCloudOptions).region = region"
   ]
  },
  {
   "cell_type": "markdown",
   "metadata": {},
   "source": [
    "### 10. create the function to format the raw data and processed data"
   ]
  },
  {
   "cell_type": "code",
   "execution_count": 57,
   "metadata": {},
   "outputs": [],
   "source": [
    "# to add window begin datetime and endtime to the aggregated PCollections.\n",
    "class FormatDoFn(beam.DoFn):\n",
    "    def process(self, element, window=beam.DoFn.WindowParam):\n",
    "        from datetime import datetime\n",
    "        window_start = datetime.fromtimestamp(window.start)\n",
    "        window_end = datetime.fromtimestamp(window.end)\n",
    "        return [{\n",
    "        'sensorID': element[0],\n",
    "        'sensorValue': element[1],\n",
    "        'windowStart': window_start,\n",
    "        'windowEnd': window_end\n",
    "        }]                     "
   ]
  },
  {
   "cell_type": "code",
   "execution_count": 50,
   "metadata": {},
   "outputs": [],
   "source": [
    "# to get the raw PCollections\n",
    "class ProcessDoFn(beam.DoFn):\n",
    "    def process(self, element):\n",
    "        yield element "
   ]
  },
  {
   "cell_type": "markdown",
   "metadata": {},
   "source": [
    "### 11. Construct the pipeline \n",
    "the pipeline from pub/sub topic and process the raw data to raw PCollections and process the aggregatesd windowed data to aggregated pcollections\n",
    "the below pipeline reads the data from pub/topic and groups the data in 5 sec intervals and calculates the mean of sensor value for that window"
   ]
  },
  {
   "cell_type": "markdown",
   "metadata": {},
   "source": [
    "![fixed-window](Images/fixed-window.png)"
   ]
  },
  {
   "cell_type": "code",
   "execution_count": 58,
   "metadata": {},
   "outputs": [],
   "source": [
    "# Sets the Google Cloud Region in which Cloud Dataflow runs.\n",
    "p = beam.Pipeline(interactive_runner.InteractiveRunner(), options=options)\n",
    "\n",
    "# Sets the Google Cloud Region in which Cloud Dataflow runs.\n",
    "mapped   = (p  | \"ReadFromPubSub\" >> beam.io.gcp.pubsub.ReadFromPubSub(subscription=pubsub_subscription_path)\n",
    "               | \"Json Loads\" >> Map(json.loads))\n",
    "\n",
    "# Sets the Google Cloud Region in which Cloud Dataflow runs.\n",
    "raw_data = (mapped \n",
    "               | 'Format' >> beam.ParDo(ProcessDoFn()))\n",
    "\n",
    "# Sets the Google Cloud Region in which Cloud Dataflow runs.            \n",
    "agg_data = (mapped \n",
    "               | \"Map Keys\" >> Map(lambda x: (x[\"SensorID\"],x[\"SensorValue\"]))\n",
    "               | \"ApplyFixedWindow\" >> beam.WindowInto(beam.window.FixedWindows(5))\n",
    "               | \"Total Per Key\" >> beam.combiners.Mean.PerKey()\n",
    "               | 'Final Format' >> beam.ParDo(FormatDoFn()))                        "
   ]
  },
  {
   "cell_type": "markdown",
   "metadata": {},
   "source": [
    "Note that the `Pipeline` is constructed by an `InteractiveRunner`, so you can use operations such as `ib.collect` or `ib.show`."
   ]
  },
  {
   "cell_type": "code",
   "execution_count": null,
   "metadata": {},
   "outputs": [
    {
     "data": {
      "text/html": [
       "\n",
       "            <link rel=\"stylesheet\" href=\"https://stackpath.bootstrapcdn.com/bootstrap/4.4.1/css/bootstrap.min.css\" integrity=\"sha384-Vkoo8x4CGsO3+Hhxv8T/Q5PaXtkKtu6ug5TOeNV6gBiFeWPGFN9MuhOf23Q9Ifjh\" crossorigin=\"anonymous\">\n",
       "            <div id=\"progress_indicator_f567e9a0bdeedc2688adc5dd30371315\">\n",
       "              <div class=\"spinner-border text-info\" role=\"status\"></div>\n",
       "              <span class=\"text-info\">Processing... show</span>\n",
       "            </div>\n",
       "            "
      ],
      "text/plain": [
       "<IPython.core.display.HTML object>"
      ]
     },
     "metadata": {},
     "output_type": "display_data"
    },
    {
     "data": {
      "text/html": [
       "\n",
       "  <style>\n",
       "    div.alert {\n",
       "      white-space: pre-line;\n",
       "    }\n",
       "  </style>\n"
      ],
      "text/plain": [
       "<IPython.core.display.HTML object>"
      ]
     },
     "metadata": {},
     "output_type": "display_data"
    },
    {
     "data": {
      "text/html": [
       "\n",
       "            <link rel=\"stylesheet\" href=\"https://stackpath.bootstrapcdn.com/bootstrap/4.4.1/css/bootstrap.min.css\" integrity=\"sha384-Vkoo8x4CGsO3+Hhxv8T/Q5PaXtkKtu6ug5TOeNV6gBiFeWPGFN9MuhOf23Q9Ifjh\" crossorigin=\"anonymous\">\n",
       "            <div class=\"alert alert-info\">Interactive Beam has detected unbounded sources in your pipeline. In order to have a deterministic replay, a segment of data will be recorded from all sources for 60.0 seconds or until a total of 1.0GB have been written to disk.</div>"
      ],
      "text/plain": [
       "<IPython.core.display.HTML object>"
      ]
     },
     "metadata": {},
     "output_type": "display_data"
    },
    {
     "data": {
      "text/html": [
       "\n",
       "            <style>\n",
       "            .p-Widget.jp-OutputPrompt.jp-OutputArea-prompt:empty {\n",
       "              padding: 0;\n",
       "              border: 0;\n",
       "            }\n",
       "            .p-Widget.jp-RenderedJavaScript.jp-mod-trusted.jp-OutputArea-output:empty {\n",
       "              padding: 0;\n",
       "              border: 0;\n",
       "            }\n",
       "            </style>\n",
       "            <div id=\"no_data_table_df_30468327bc2c624a5304623225029064\">No data to display.</div>"
      ],
      "text/plain": [
       "<IPython.core.display.HTML object>"
      ]
     },
     "metadata": {},
     "output_type": "display_data"
    },
    {
     "name": "stderr",
     "output_type": "stream",
     "text": [
      "WARNING:apache_beam.runners.direct.test_stream_impl:TestStream timed out waiting for new events from service. Stopping pipeline.\n",
      "ERROR:apache_beam.runners.direct.executor:Exception at bundle <apache_beam.runners.direct.bundle_factory._Bundle object at 0x7fd322af11c0>, due to an exception.\n",
      " Traceback (most recent call last):\n",
      "  File \"/jupyter/.kernels/apache-beam-2.45.0/packages/beam/sdks/python/apache_beam/runners/direct/executor.py\", line 370, in call\n",
      "    self.attempt_call(\n",
      "  File \"/jupyter/.kernels/apache-beam-2.45.0/packages/beam/sdks/python/apache_beam/runners/direct/executor.py\", line 413, in attempt_call\n",
      "    evaluator.process_element(value)\n",
      "  File \"/jupyter/.kernels/apache-beam-2.45.0/packages/beam/sdks/python/apache_beam/runners/direct/transform_evaluator.py\", line 544, in process_element\n",
      "    events.append(next(self.event_stream))\n",
      "  File \"/jupyter/.kernels/apache-beam-2.45.0/packages/beam/sdks/python/apache_beam/runners/direct/test_stream_impl.py\", line 337, in events_from_rpc\n",
      "    raise e\n",
      "  File \"/jupyter/.kernels/apache-beam-2.45.0/packages/beam/sdks/python/apache_beam/runners/direct/test_stream_impl.py\", line 328, in events_from_rpc\n",
      "    event = channel.get(timeout=30)\n",
      "  File \"/usr/lib/python3.8/queue.py\", line 178, in get\n",
      "    raise Empty\n",
      "_queue.Empty\n",
      "\n"
     ]
    },
    {
     "data": {
      "text/html": [
       "\n",
       "  <style>\n",
       "    div.alert {\n",
       "      white-space: pre-line;\n",
       "    }\n",
       "  </style>\n"
      ],
      "text/plain": [
       "<IPython.core.display.HTML object>"
      ]
     },
     "metadata": {},
     "output_type": "display_data"
    },
    {
     "data": {
      "text/html": [
       "\n",
       "            <link rel=\"stylesheet\" href=\"https://stackpath.bootstrapcdn.com/bootstrap/4.4.1/css/bootstrap.min.css\" integrity=\"sha384-Vkoo8x4CGsO3+Hhxv8T/Q5PaXtkKtu6ug5TOeNV6gBiFeWPGFN9MuhOf23Q9Ifjh\" crossorigin=\"anonymous\">\n",
       "            <div class=\"alert alert-danger\">Timed out waiting for cache file for PCollection `55878808b2` to be available with path /tmp/it-2ur5tskq140544799610480/full/55878808b2-140544799311664-140544799311616-140544799610480.</div>"
      ],
      "text/plain": [
       "<IPython.core.display.HTML object>"
      ]
     },
     "metadata": {},
     "output_type": "display_data"
    },
    {
     "data": {
      "application/javascript": "\n        if (typeof window.interactive_beam_jquery == 'undefined') {\n          var jqueryScript = document.createElement('script');\n          jqueryScript.src = 'https://code.jquery.com/jquery-3.4.1.slim.min.js';\n          jqueryScript.type = 'text/javascript';\n          jqueryScript.onload = function() {\n            var datatableScript = document.createElement('script');\n            datatableScript.src = 'https://cdn.datatables.net/1.10.20/js/jquery.dataTables.min.js';\n            datatableScript.type = 'text/javascript';\n            datatableScript.onload = function() {\n              window.interactive_beam_jquery = jQuery.noConflict(true);\n              window.interactive_beam_jquery(document).ready(function($){\n                \n            $(\"#progress_indicator_f567e9a0bdeedc2688adc5dd30371315\").remove();\n              });\n            }\n            document.head.appendChild(datatableScript);\n          };\n          document.head.appendChild(jqueryScript);\n        } else {\n          window.interactive_beam_jquery(document).ready(function($){\n            \n            $(\"#progress_indicator_f567e9a0bdeedc2688adc5dd30371315\").remove();\n          });\n        }"
     },
     "metadata": {},
     "output_type": "display_data"
    }
   ],
   "source": [
    "ib.show(agg_data)"
   ]
  },
  {
   "cell_type": "markdown",
   "metadata": {},
   "source": [
    "### Dataflow Additions\n",
    "\n",
    "Now, for something a bit different. Because Dataflow executes in the cloud, you need to output to a cloud sink. In this case, you are loading the transformed data into Cloud Storage.\n",
    "\n",
    "First, set up the `PipelineOptions` to specify to the Dataflow service the Google Cloud project, the region to run the Dataflow Job, and the SDK location."
   ]
  },
  {
   "cell_type": "code",
   "execution_count": 52,
   "metadata": {},
   "outputs": [],
   "source": [
    "# IMPORTANT! Adjust the following to choose a Cloud Storage location.\n",
    "dataflow_gcs_location = \"gs://<replace project id with your projectID>/dataflow\"\n",
    "\n",
    "# Dataflow Staging Location. This location is used to stage the Dataflow Pipeline and SDK binary.\n",
    "# options.view_as(GoogleCloudOptions).staging_location = dataflow_gcs_location\n",
    "\n",
    "# Sets the project to the default project in your current Google Cloud environment.\n",
    "_, options.view_as(GoogleCloudOptions).project = google.auth.default()\n",
    "\n",
    "# Dataflow Temp Location. This location is used to store temporary files or intermediate results before finally outputting to the sink.\n",
    "options.view_as(GoogleCloudOptions).temp_location = '%s/temp' % dataflow_gcs_location\n",
    "\n",
    "# Dataflow job name. when pipeline runs as dataflowrunner.\n",
    "options.view_as(GoogleCloudOptions).job_name = project_id\n"
   ]
  },
  {
   "cell_type": "code",
   "execution_count": 53,
   "metadata": {},
   "outputs": [
    {
     "data": {
      "text/plain": [
       "<apache_beam.io.gcp.bigquery.WriteResult at 0x7fd2ecc7dc70>"
      ]
     },
     "execution_count": 53,
     "metadata": {},
     "output_type": "execute_result"
    }
   ],
   "source": [
    "# Specifying the bigquery table to write `add_data` to,\n",
    "# based on the `bigquery_raw_table` variable set earlier.\n",
    "(raw_data | 'Write raw data to Bigquery' \n",
    " >> beam.io.WriteToBigQuery(\n",
    "                bigquery_raw_table,\n",
    "                write_disposition=beam.io.BigQueryDisposition.WRITE_APPEND))\n",
    "# Specifying the bigquery table to write `add_data` to,\n",
    "# based on the `bigquery_agg_table` variable set earlier.\n",
    "(agg_data | 'Write windowed aggregated data to Bigquery' \n",
    " >> beam.io.WriteToBigQuery(\n",
    "                bigquery_agg_table,\n",
    "                write_disposition=beam.io.BigQueryDisposition.WRITE_APPEND))"
   ]
  },
  {
   "cell_type": "code",
   "execution_count": 54,
   "metadata": {},
   "outputs": [
    {
     "data": {
      "text/html": [
       "\n",
       "            <link rel=\"stylesheet\" href=\"https://stackpath.bootstrapcdn.com/bootstrap/4.4.1/css/bootstrap.min.css\" integrity=\"sha384-Vkoo8x4CGsO3+Hhxv8T/Q5PaXtkKtu6ug5TOeNV6gBiFeWPGFN9MuhOf23Q9Ifjh\" crossorigin=\"anonymous\">\n",
       "            <div id=\"progress_indicator_b92047f8ecf5c625b356a02cfb92fce5\">\n",
       "              <div class=\"spinner-border text-info\" role=\"status\"></div>\n",
       "              <span class=\"text-info\">Processing... show_graph</span>\n",
       "            </div>\n",
       "            "
      ],
      "text/plain": [
       "<IPython.core.display.HTML object>"
      ]
     },
     "metadata": {},
     "output_type": "display_data"
    },
    {
     "name": "stdout",
     "output_type": "stream",
     "text": [
      "/usr/bin/dot\n"
     ]
    },
    {
     "data": {
      "text/html": [
       "<?xml version=\"1.0\" encoding=\"UTF-8\" standalone=\"no\"?>\n",
       "<!DOCTYPE svg PUBLIC \"-//W3C//DTD SVG 1.1//EN\"\n",
       " \"http://www.w3.org/Graphics/SVG/1.1/DTD/svg11.dtd\">\n",
       "<!-- Generated by graphviz version 2.43.0 (0)\n",
       " -->\n",
       "<!-- Title: G Pages: 1 -->\n",
       "<svg width=\"561pt\" height=\"1108pt\"\n",
       " viewBox=\"0.00 0.00 560.50 1108.07\" xmlns=\"http://www.w3.org/2000/svg\" xmlns:xlink=\"http://www.w3.org/1999/xlink\">\n",
       "<g id=\"graph0\" class=\"graph\" transform=\"scale(1 1) rotate(0) translate(4 1104.07)\">\n",
       "<title>G</title>\n",
       "<polygon fill=\"white\" stroke=\"transparent\" points=\"-4,4 -4,-1104.07 556.5,-1104.07 556.5,4 -4,4\"/>\n",
       "<!-- [51]: ReadFromPubSub -->\n",
       "<g id=\"node1\" class=\"node\">\n",
       "<title>[51]: ReadFromPubSub</title>\n",
       "<polygon fill=\"none\" stroke=\"blue\" points=\"347.5,-1100.07 163.5,-1100.07 163.5,-1064.07 347.5,-1064.07 347.5,-1100.07\"/>\n",
       "<text text-anchor=\"middle\" x=\"255.5\" y=\"-1078.37\" font-family=\"Times,serif\" font-size=\"14.00\" fill=\"blue\">[51]: ReadFromPubSub</text>\n",
       "</g>\n",
       "<!-- pcoll8605 -->\n",
       "<g id=\"node2\" class=\"node\">\n",
       "<title>pcoll8605</title>\n",
       "<ellipse fill=\"none\" stroke=\"blue\" cx=\"255.5\" cy=\"-1010.07\" rx=\"18\" ry=\"18\"/>\n",
       "</g>\n",
       "<!-- [51]: ReadFromPubSub&#45;&gt;pcoll8605 -->\n",
       "<g id=\"edge1\" class=\"edge\">\n",
       "<title>[51]: ReadFromPubSub&#45;&gt;pcoll8605</title>\n",
       "<path fill=\"none\" stroke=\"black\" d=\"M255.5,-1063.77C255.5,-1056.06 255.5,-1046.79 255.5,-1038.19\"/>\n",
       "<polygon fill=\"black\" stroke=\"black\" points=\"259,-1038.18 255.5,-1028.18 252,-1038.18 259,-1038.18\"/>\n",
       "</g>\n",
       "<!-- [51]: Json Loads -->\n",
       "<g id=\"node3\" class=\"node\">\n",
       "<title>[51]: Json Loads</title>\n",
       "<polygon fill=\"none\" stroke=\"blue\" points=\"321,-956.07 190,-956.07 190,-920.07 321,-920.07 321,-956.07\"/>\n",
       "<text text-anchor=\"middle\" x=\"255.5\" y=\"-934.37\" font-family=\"Times,serif\" font-size=\"14.00\" fill=\"blue\">[51]: Json Loads</text>\n",
       "</g>\n",
       "<!-- pcoll8605&#45;&gt;[51]: Json Loads -->\n",
       "<g id=\"edge2\" class=\"edge\">\n",
       "<title>pcoll8605&#45;&gt;[51]: Json Loads</title>\n",
       "<path fill=\"none\" stroke=\"black\" d=\"M255.5,-991.77C255.5,-984.06 255.5,-974.79 255.5,-966.19\"/>\n",
       "<polygon fill=\"black\" stroke=\"black\" points=\"259,-966.18 255.5,-956.18 252,-966.18 259,-966.18\"/>\n",
       "</g>\n",
       "<!-- mapped -->\n",
       "<g id=\"node4\" class=\"node\">\n",
       "<title>mapped</title>\n",
       "<ellipse fill=\"none\" stroke=\"blue\" cx=\"255.5\" cy=\"-835.98\" rx=\"48.19\" ry=\"48.19\"/>\n",
       "<text text-anchor=\"middle\" x=\"255.5\" y=\"-832.28\" font-family=\"Times,serif\" font-size=\"14.00\" fill=\"blue\">mapped</text>\n",
       "</g>\n",
       "<!-- [51]: Json Loads&#45;&gt;mapped -->\n",
       "<g id=\"edge3\" class=\"edge\">\n",
       "<title>[51]: Json Loads&#45;&gt;mapped</title>\n",
       "<path fill=\"none\" stroke=\"black\" d=\"M255.5,-919.64C255.5,-912.4 255.5,-903.55 255.5,-894.36\"/>\n",
       "<polygon fill=\"black\" stroke=\"black\" points=\"259,-894.31 255.5,-884.31 252,-894.31 259,-894.31\"/>\n",
       "</g>\n",
       "<!-- [51]: Format -->\n",
       "<g id=\"node5\" class=\"node\">\n",
       "<title>[51]: Format</title>\n",
       "<polygon fill=\"none\" stroke=\"blue\" points=\"242.5,-751.88 136.5,-751.88 136.5,-715.88 242.5,-715.88 242.5,-751.88\"/>\n",
       "<text text-anchor=\"middle\" x=\"189.5\" y=\"-730.18\" font-family=\"Times,serif\" font-size=\"14.00\" fill=\"blue\">[51]: Format</text>\n",
       "</g>\n",
       "<!-- mapped&#45;&gt;[51]: Format -->\n",
       "<g id=\"edge4\" class=\"edge\">\n",
       "<title>mapped&#45;&gt;[51]: Format</title>\n",
       "<path fill=\"none\" stroke=\"black\" d=\"M229.42,-795.42C221.65,-783.63 213.34,-771.04 206.33,-760.41\"/>\n",
       "<polygon fill=\"black\" stroke=\"black\" points=\"209.21,-758.42 200.78,-752 203.37,-762.27 209.21,-758.42\"/>\n",
       "</g>\n",
       "<!-- [51]: Map Keys -->\n",
       "<g id=\"node7\" class=\"node\">\n",
       "<title>[51]: Map Keys</title>\n",
       "<polygon fill=\"none\" stroke=\"blue\" points=\"410.5,-751.88 286.5,-751.88 286.5,-715.88 410.5,-715.88 410.5,-751.88\"/>\n",
       "<text text-anchor=\"middle\" x=\"348.5\" y=\"-730.18\" font-family=\"Times,serif\" font-size=\"14.00\" fill=\"blue\">[51]: Map Keys</text>\n",
       "</g>\n",
       "<!-- mapped&#45;&gt;[51]: Map Keys -->\n",
       "<g id=\"edge5\" class=\"edge\">\n",
       "<title>mapped&#45;&gt;[51]: Map Keys</title>\n",
       "<path fill=\"none\" stroke=\"black\" d=\"M287.77,-800.25C300.16,-786.91 314.05,-771.96 325.41,-759.73\"/>\n",
       "<polygon fill=\"black\" stroke=\"black\" points=\"328.23,-761.84 332.47,-752.13 323.1,-757.07 328.23,-761.84\"/>\n",
       "</g>\n",
       "<!-- raw_data -->\n",
       "<g id=\"node6\" class=\"node\">\n",
       "<title>raw_data</title>\n",
       "<ellipse fill=\"none\" stroke=\"blue\" cx=\"137.5\" cy=\"-626.59\" rx=\"53.09\" ry=\"53.09\"/>\n",
       "<text text-anchor=\"middle\" x=\"137.5\" y=\"-622.89\" font-family=\"Times,serif\" font-size=\"14.00\" fill=\"blue\">raw_data</text>\n",
       "</g>\n",
       "<!-- [51]: Format&#45;&gt;raw_data -->\n",
       "<g id=\"edge6\" class=\"edge\">\n",
       "<title>[51]: Format&#45;&gt;raw_data</title>\n",
       "<path fill=\"none\" stroke=\"black\" d=\"M180.91,-715.49C176.59,-706.74 171.07,-695.57 165.44,-684.16\"/>\n",
       "<polygon fill=\"black\" stroke=\"black\" points=\"168.48,-682.41 160.91,-674.99 162.2,-685.51 168.48,-682.41\"/>\n",
       "</g>\n",
       "<!-- [53]: Write raw data to Bigquery -->\n",
       "<g id=\"node15\" class=\"node\">\n",
       "<title>[53]: Write raw data to Bigquery</title>\n",
       "<polygon fill=\"none\" stroke=\"blue\" points=\"249,-537.29 0,-537.29 0,-501.29 249,-501.29 249,-537.29\"/>\n",
       "<text text-anchor=\"middle\" x=\"124.5\" y=\"-515.59\" font-family=\"Times,serif\" font-size=\"14.00\" fill=\"blue\">[53]: Write raw data to Bigquery</text>\n",
       "</g>\n",
       "<!-- raw_data&#45;&gt;[53]: Write raw data to Bigquery -->\n",
       "<g id=\"edge7\" class=\"edge\">\n",
       "<title>raw_data&#45;&gt;[53]: Write raw data to Bigquery</title>\n",
       "<path fill=\"none\" stroke=\"black\" d=\"M131.08,-573.56C129.97,-564.58 128.86,-555.58 127.87,-547.6\"/>\n",
       "<polygon fill=\"black\" stroke=\"black\" points=\"131.32,-546.94 126.62,-537.45 124.37,-547.8 131.32,-546.94\"/>\n",
       "</g>\n",
       "<!-- pcoll5362 -->\n",
       "<g id=\"node8\" class=\"node\">\n",
       "<title>pcoll5362</title>\n",
       "<ellipse fill=\"none\" stroke=\"blue\" cx=\"355.5\" cy=\"-626.59\" rx=\"18\" ry=\"18\"/>\n",
       "</g>\n",
       "<!-- [51]: Map Keys&#45;&gt;pcoll5362 -->\n",
       "<g id=\"edge8\" class=\"edge\">\n",
       "<title>[51]: Map Keys&#45;&gt;pcoll5362</title>\n",
       "<path fill=\"none\" stroke=\"black\" d=\"M349.66,-715.49C350.75,-699.01 352.41,-673.99 353.69,-654.86\"/>\n",
       "<polygon fill=\"black\" stroke=\"black\" points=\"357.19,-654.86 354.37,-644.65 350.21,-654.4 357.19,-654.86\"/>\n",
       "</g>\n",
       "<!-- [51]: ApplyFixedWindow -->\n",
       "<g id=\"node9\" class=\"node\">\n",
       "<title>[51]: ApplyFixedWindow</title>\n",
       "<polygon fill=\"none\" stroke=\"blue\" points=\"458,-537.29 267,-537.29 267,-501.29 458,-501.29 458,-537.29\"/>\n",
       "<text text-anchor=\"middle\" x=\"362.5\" y=\"-515.59\" font-family=\"Times,serif\" font-size=\"14.00\" fill=\"blue\">[51]: ApplyFixedWindow</text>\n",
       "</g>\n",
       "<!-- pcoll5362&#45;&gt;[51]: ApplyFixedWindow -->\n",
       "<g id=\"edge9\" class=\"edge\">\n",
       "<title>pcoll5362&#45;&gt;[51]: ApplyFixedWindow</title>\n",
       "<path fill=\"none\" stroke=\"black\" d=\"M356.66,-608.2C357.75,-591.72 359.41,-566.7 360.69,-547.56\"/>\n",
       "<polygon fill=\"black\" stroke=\"black\" points=\"364.19,-547.56 361.37,-537.35 357.21,-547.1 364.19,-547.56\"/>\n",
       "</g>\n",
       "<!-- pcoll8119 -->\n",
       "<g id=\"node10\" class=\"node\">\n",
       "<title>pcoll8119</title>\n",
       "<ellipse fill=\"none\" stroke=\"blue\" cx=\"362.5\" cy=\"-447.29\" rx=\"18\" ry=\"18\"/>\n",
       "</g>\n",
       "<!-- [51]: ApplyFixedWindow&#45;&gt;pcoll8119 -->\n",
       "<g id=\"edge10\" class=\"edge\">\n",
       "<title>[51]: ApplyFixedWindow&#45;&gt;pcoll8119</title>\n",
       "<path fill=\"none\" stroke=\"black\" d=\"M362.5,-500.99C362.5,-493.27 362.5,-484 362.5,-475.4\"/>\n",
       "<polygon fill=\"black\" stroke=\"black\" points=\"366,-475.39 362.5,-465.39 359,-475.4 366,-475.39\"/>\n",
       "</g>\n",
       "<!-- [51]: Total Per Key -->\n",
       "<g id=\"node11\" class=\"node\">\n",
       "<title>[51]: Total Per Key</title>\n",
       "<polygon fill=\"none\" stroke=\"blue\" points=\"437,-393.29 288,-393.29 288,-357.29 437,-357.29 437,-393.29\"/>\n",
       "<text text-anchor=\"middle\" x=\"362.5\" y=\"-371.59\" font-family=\"Times,serif\" font-size=\"14.00\" fill=\"blue\">[51]: Total Per Key</text>\n",
       "</g>\n",
       "<!-- pcoll8119&#45;&gt;[51]: Total Per Key -->\n",
       "<g id=\"edge11\" class=\"edge\">\n",
       "<title>pcoll8119&#45;&gt;[51]: Total Per Key</title>\n",
       "<path fill=\"none\" stroke=\"black\" d=\"M362.5,-428.99C362.5,-421.27 362.5,-412 362.5,-403.4\"/>\n",
       "<polygon fill=\"black\" stroke=\"black\" points=\"366,-403.39 362.5,-393.39 359,-403.4 366,-403.39\"/>\n",
       "</g>\n",
       "<!-- pcoll6275 -->\n",
       "<g id=\"node12\" class=\"node\">\n",
       "<title>pcoll6275</title>\n",
       "<ellipse fill=\"none\" stroke=\"blue\" cx=\"362.5\" cy=\"-303.29\" rx=\"18\" ry=\"18\"/>\n",
       "</g>\n",
       "<!-- [51]: Total Per Key&#45;&gt;pcoll6275 -->\n",
       "<g id=\"edge12\" class=\"edge\">\n",
       "<title>[51]: Total Per Key&#45;&gt;pcoll6275</title>\n",
       "<path fill=\"none\" stroke=\"black\" d=\"M362.5,-356.99C362.5,-349.27 362.5,-340 362.5,-331.4\"/>\n",
       "<polygon fill=\"black\" stroke=\"black\" points=\"366,-331.39 362.5,-321.39 359,-331.4 366,-331.39\"/>\n",
       "</g>\n",
       "<!-- [51]: Final Format -->\n",
       "<g id=\"node13\" class=\"node\">\n",
       "<title>[51]: Final Format</title>\n",
       "<polygon fill=\"none\" stroke=\"blue\" points=\"435.5,-249.29 289.5,-249.29 289.5,-213.29 435.5,-213.29 435.5,-249.29\"/>\n",
       "<text text-anchor=\"middle\" x=\"362.5\" y=\"-227.59\" font-family=\"Times,serif\" font-size=\"14.00\" fill=\"blue\">[51]: Final Format</text>\n",
       "</g>\n",
       "<!-- pcoll6275&#45;&gt;[51]: Final Format -->\n",
       "<g id=\"edge13\" class=\"edge\">\n",
       "<title>pcoll6275&#45;&gt;[51]: Final Format</title>\n",
       "<path fill=\"none\" stroke=\"black\" d=\"M362.5,-284.99C362.5,-277.27 362.5,-268 362.5,-259.4\"/>\n",
       "<polygon fill=\"black\" stroke=\"black\" points=\"366,-259.39 362.5,-249.39 359,-259.4 366,-259.39\"/>\n",
       "</g>\n",
       "<!-- agg_data -->\n",
       "<g id=\"node14\" class=\"node\">\n",
       "<title>agg_data</title>\n",
       "<ellipse fill=\"none\" stroke=\"blue\" cx=\"362.5\" cy=\"-124.65\" rx=\"52.79\" ry=\"52.79\"/>\n",
       "<text text-anchor=\"middle\" x=\"362.5\" y=\"-120.95\" font-family=\"Times,serif\" font-size=\"14.00\" fill=\"blue\">agg_data</text>\n",
       "</g>\n",
       "<!-- [51]: Final Format&#45;&gt;agg_data -->\n",
       "<g id=\"edge14\" class=\"edge\">\n",
       "<title>[51]: Final Format&#45;&gt;agg_data</title>\n",
       "<path fill=\"none\" stroke=\"black\" d=\"M362.5,-213.01C362.5,-205.76 362.5,-196.86 362.5,-187.53\"/>\n",
       "<polygon fill=\"black\" stroke=\"black\" points=\"366,-187.3 362.5,-177.3 359,-187.3 366,-187.3\"/>\n",
       "</g>\n",
       "<!-- [53]: Write windowed aggregated data to Bigquery -->\n",
       "<g id=\"node16\" class=\"node\">\n",
       "<title>[53]: Write windowed aggregated data to Bigquery</title>\n",
       "<polygon fill=\"none\" stroke=\"blue\" points=\"552.5,-36 172.5,-36 172.5,0 552.5,0 552.5,-36\"/>\n",
       "<text text-anchor=\"middle\" x=\"362.5\" y=\"-14.3\" font-family=\"Times,serif\" font-size=\"14.00\" fill=\"blue\">[53]: Write windowed aggregated data to Bigquery</text>\n",
       "</g>\n",
       "<!-- agg_data&#45;&gt;[53]: Write windowed aggregated data to Bigquery -->\n",
       "<g id=\"edge15\" class=\"edge\">\n",
       "<title>agg_data&#45;&gt;[53]: Write windowed aggregated data to Bigquery</title>\n",
       "<path fill=\"none\" stroke=\"black\" d=\"M362.5,-71.94C362.5,-63.01 362.5,-54.07 362.5,-46.14\"/>\n",
       "<polygon fill=\"black\" stroke=\"black\" points=\"366,-46.05 362.5,-36.05 359,-46.05 366,-46.05\"/>\n",
       "</g>\n",
       "</g>\n",
       "</svg>\n"
      ],
      "text/plain": [
       "<IPython.core.display.HTML object>"
      ]
     },
     "metadata": {},
     "output_type": "display_data"
    },
    {
     "data": {
      "application/javascript": "\n        if (typeof window.interactive_beam_jquery == 'undefined') {\n          var jqueryScript = document.createElement('script');\n          jqueryScript.src = 'https://code.jquery.com/jquery-3.4.1.slim.min.js';\n          jqueryScript.type = 'text/javascript';\n          jqueryScript.onload = function() {\n            var datatableScript = document.createElement('script');\n            datatableScript.src = 'https://cdn.datatables.net/1.10.20/js/jquery.dataTables.min.js';\n            datatableScript.type = 'text/javascript';\n            datatableScript.onload = function() {\n              window.interactive_beam_jquery = jQuery.noConflict(true);\n              window.interactive_beam_jquery(document).ready(function($){\n                \n            $(\"#progress_indicator_b92047f8ecf5c625b356a02cfb92fce5\").remove();\n              });\n            }\n            document.head.appendChild(datatableScript);\n          };\n          document.head.appendChild(jqueryScript);\n        } else {\n          window.interactive_beam_jquery(document).ready(function($){\n            \n            $(\"#progress_indicator_b92047f8ecf5c625b356a02cfb92fce5\").remove();\n          });\n        }"
     },
     "metadata": {},
     "output_type": "display_data"
    }
   ],
   "source": [
    "# IMPORTANT! Ensure that the graph is correct before sending it out to Dataflow.\n",
    "# Because this is a notebook environment, unintended additions to the graph may have occurred when rerunning cells. \n",
    "ib.show_graph(p)"
   ]
  },
  {
   "cell_type": "markdown",
   "metadata": {},
   "source": [
    "### Running the pipeline\n",
    "\n",
    "Now you are ready to run the pipeline on Dataflow. `run_pipeline()` runs the pipeline and return a pipeline result object."
   ]
  },
  {
   "cell_type": "code",
   "execution_count": 55,
   "metadata": {},
   "outputs": [],
   "source": [
    "pipeline_result = DataflowRunner().run_pipeline(p, options=options)"
   ]
  },
  {
   "cell_type": "markdown",
   "metadata": {},
   "source": [
    "Using the `pipeline_result` handle, the following code builds a link to the Google Cloud Console web page that shows you details of the Dataflow job you just started:"
   ]
  },
  {
   "cell_type": "code",
   "execution_count": 56,
   "metadata": {},
   "outputs": [
    {
     "name": "stderr",
     "output_type": "stream",
     "text": [
      "/tmp/ipykernel_4269/2966784630.py:1: DeprecationWarning: Importing display from IPython.core.display is deprecated since IPython 7.14, please import from IPython display\n",
      "  from IPython.core.display import display, HTML\n"
     ]
    },
    {
     "data": {
      "text/html": [
       "Click <a href=\"https://console.cloud.google.com/dataflow/jobs/us-central1/2023-03-12_01_27_35-6067514708104401001?project=general-demo-364117\" target=\"_new\">here</a> for the details of your Dataflow job!"
      ],
      "text/plain": [
       "<IPython.core.display.HTML object>"
      ]
     },
     "metadata": {},
     "output_type": "display_data"
    }
   ],
   "source": [
    "from IPython.core.display import display, HTML\n",
    "url = ('https://console.cloud.google.com/dataflow/jobs/%s/%s?project=%s' % \n",
    "      (pipeline_result._job.location, pipeline_result._job.id, pipeline_result._job.projectId))\n",
    "display(HTML('Click <a href=\"%s\" target=\"_new\">here</a> for the details of your Dataflow job!' % url))\n"
   ]
  },
  {
   "cell_type": "markdown",
   "metadata": {},
   "source": [
    "dtaflow job\n",
    "![dataflow-job](Images/DataflowJob.png)"
   ]
  },
  {
   "cell_type": "markdown",
   "metadata": {},
   "source": [
    "### Important --Run simulator script in a sepate note book\n",
    "PythonSimulator.ipynb\n",
    " "
   ]
  },
  {
   "cell_type": "markdown",
   "metadata": {},
   "source": [
    "### Checking the raw table results\n",
    "raw table results\n",
    "![raw-table-results](Images/raw-data-results.png)"
   ]
  },
  {
   "cell_type": "code",
   "execution_count": 70,
   "metadata": {},
   "outputs": [
    {
     "data": {
      "text/html": [
       "<div>\n",
       "<style scoped>\n",
       "    .dataframe tbody tr th:only-of-type {\n",
       "        vertical-align: middle;\n",
       "    }\n",
       "\n",
       "    .dataframe tbody tr th {\n",
       "        vertical-align: top;\n",
       "    }\n",
       "\n",
       "    .dataframe thead th {\n",
       "        text-align: right;\n",
       "    }\n",
       "</style>\n",
       "<table border=\"1\" class=\"dataframe\">\n",
       "  <thead>\n",
       "    <tr style=\"text-align: right;\">\n",
       "      <th></th>\n",
       "      <th>sensorID</th>\n",
       "      <th>timeStamp</th>\n",
       "      <th>sensorValue</th>\n",
       "    </tr>\n",
       "  </thead>\n",
       "  <tbody>\n",
       "    <tr>\n",
       "      <th>0</th>\n",
       "      <td>75c18751-7a94-453e-86f5-67be2b0c8fd4</td>\n",
       "      <td>2023-03-12 08:05:19.670</td>\n",
       "      <td>185.293134</td>\n",
       "    </tr>\n",
       "    <tr>\n",
       "      <th>1</th>\n",
       "      <td>75c18751-7a94-453e-86f5-67be2b0c8fd4</td>\n",
       "      <td>2023-03-12 08:06:11.049</td>\n",
       "      <td>192.403757</td>\n",
       "    </tr>\n",
       "    <tr>\n",
       "      <th>2</th>\n",
       "      <td>75c18751-7a94-453e-86f5-67be2b0c8fd4</td>\n",
       "      <td>2023-03-12 08:05:17.554</td>\n",
       "      <td>244.201024</td>\n",
       "    </tr>\n",
       "    <tr>\n",
       "      <th>3</th>\n",
       "      <td>75c18751-7a94-453e-86f5-67be2b0c8fd4</td>\n",
       "      <td>2023-03-12 08:05:30.347</td>\n",
       "      <td>196.650851</td>\n",
       "    </tr>\n",
       "    <tr>\n",
       "      <th>4</th>\n",
       "      <td>75c18751-7a94-453e-86f5-67be2b0c8fd4</td>\n",
       "      <td>2023-03-12 08:05:16.547</td>\n",
       "      <td>111.116663</td>\n",
       "    </tr>\n",
       "    <tr>\n",
       "      <th>...</th>\n",
       "      <td>...</td>\n",
       "      <td>...</td>\n",
       "      <td>...</td>\n",
       "    </tr>\n",
       "    <tr>\n",
       "      <th>22426</th>\n",
       "      <td>75c18751-7a94-453e-86f5-67be2b0c8fd4</td>\n",
       "      <td>2023-03-12 09:37:18.974</td>\n",
       "      <td>171.316666</td>\n",
       "    </tr>\n",
       "    <tr>\n",
       "      <th>22427</th>\n",
       "      <td>75c18751-7a94-453e-86f5-67be2b0c8fd4</td>\n",
       "      <td>2023-03-12 09:37:19.075</td>\n",
       "      <td>146.568026</td>\n",
       "    </tr>\n",
       "    <tr>\n",
       "      <th>22428</th>\n",
       "      <td>75c18751-7a94-453e-86f5-67be2b0c8fd4</td>\n",
       "      <td>2023-03-12 09:37:19.075</td>\n",
       "      <td>146.568026</td>\n",
       "    </tr>\n",
       "    <tr>\n",
       "      <th>22429</th>\n",
       "      <td>75c18751-7a94-453e-86f5-67be2b0c8fd4</td>\n",
       "      <td>2023-03-12 09:37:19.478</td>\n",
       "      <td>103.486520</td>\n",
       "    </tr>\n",
       "    <tr>\n",
       "      <th>22430</th>\n",
       "      <td>75c18751-7a94-453e-86f5-67be2b0c8fd4</td>\n",
       "      <td>2023-03-12 09:37:19.478</td>\n",
       "      <td>103.486520</td>\n",
       "    </tr>\n",
       "  </tbody>\n",
       "</table>\n",
       "<p>22431 rows × 3 columns</p>\n",
       "</div>"
      ],
      "text/plain": [
       "                                   sensorID               timeStamp  \\\n",
       "0      75c18751-7a94-453e-86f5-67be2b0c8fd4 2023-03-12 08:05:19.670   \n",
       "1      75c18751-7a94-453e-86f5-67be2b0c8fd4 2023-03-12 08:06:11.049   \n",
       "2      75c18751-7a94-453e-86f5-67be2b0c8fd4 2023-03-12 08:05:17.554   \n",
       "3      75c18751-7a94-453e-86f5-67be2b0c8fd4 2023-03-12 08:05:30.347   \n",
       "4      75c18751-7a94-453e-86f5-67be2b0c8fd4 2023-03-12 08:05:16.547   \n",
       "...                                     ...                     ...   \n",
       "22426  75c18751-7a94-453e-86f5-67be2b0c8fd4 2023-03-12 09:37:18.974   \n",
       "22427  75c18751-7a94-453e-86f5-67be2b0c8fd4 2023-03-12 09:37:19.075   \n",
       "22428  75c18751-7a94-453e-86f5-67be2b0c8fd4 2023-03-12 09:37:19.075   \n",
       "22429  75c18751-7a94-453e-86f5-67be2b0c8fd4 2023-03-12 09:37:19.478   \n",
       "22430  75c18751-7a94-453e-86f5-67be2b0c8fd4 2023-03-12 09:37:19.478   \n",
       "\n",
       "       sensorValue  \n",
       "0       185.293134  \n",
       "1       192.403757  \n",
       "2       244.201024  \n",
       "3       196.650851  \n",
       "4       111.116663  \n",
       "...            ...  \n",
       "22426   171.316666  \n",
       "22427   146.568026  \n",
       "22428   146.568026  \n",
       "22429   103.486520  \n",
       "22430   103.486520  \n",
       "\n",
       "[22431 rows x 3 columns]"
      ]
     },
     "execution_count": 70,
     "metadata": {},
     "output_type": "execute_result"
    }
   ],
   "source": [
    "#check the raw data in BQ raw Table\n",
    "sql = 'SELECT * FROM `{}` '.format(bigquery_raw_table)\n",
    "query_job = client.query(sql)  # API request\n",
    "raw_df = query_job.to_dataframe()\n",
    "df"
   ]
  },
  {
   "cell_type": "markdown",
   "metadata": {},
   "source": [
    "### Checking the agg table results\n",
    "agg table results\n",
    "![agg-table-results](Images/agg-data-results.png)"
   ]
  },
  {
   "cell_type": "code",
   "execution_count": 113,
   "metadata": {},
   "outputs": [
    {
     "data": {
      "text/html": [
       "<div>\n",
       "<style scoped>\n",
       "    .dataframe tbody tr th:only-of-type {\n",
       "        vertical-align: middle;\n",
       "    }\n",
       "\n",
       "    .dataframe tbody tr th {\n",
       "        vertical-align: top;\n",
       "    }\n",
       "\n",
       "    .dataframe thead th {\n",
       "        text-align: right;\n",
       "    }\n",
       "</style>\n",
       "<table border=\"1\" class=\"dataframe\">\n",
       "  <thead>\n",
       "    <tr style=\"text-align: right;\">\n",
       "      <th></th>\n",
       "      <th>sensorID</th>\n",
       "      <th>type</th>\n",
       "      <th>sensorValue</th>\n",
       "      <th>cycle</th>\n",
       "    </tr>\n",
       "  </thead>\n",
       "  <tbody>\n",
       "    <tr>\n",
       "      <th>0</th>\n",
       "      <td>75c18751-7a94-453e-86f5-67be2b0c8fd4</td>\n",
       "      <td>Normal</td>\n",
       "      <td>197.638890</td>\n",
       "      <td>1</td>\n",
       "    </tr>\n",
       "    <tr>\n",
       "      <th>1</th>\n",
       "      <td>75c18751-7a94-453e-86f5-67be2b0c8fd4</td>\n",
       "      <td>Normal</td>\n",
       "      <td>213.066811</td>\n",
       "      <td>2</td>\n",
       "    </tr>\n",
       "    <tr>\n",
       "      <th>2</th>\n",
       "      <td>75c18751-7a94-453e-86f5-67be2b0c8fd4</td>\n",
       "      <td>Normal</td>\n",
       "      <td>161.423363</td>\n",
       "      <td>3</td>\n",
       "    </tr>\n",
       "    <tr>\n",
       "      <th>3</th>\n",
       "      <td>75c18751-7a94-453e-86f5-67be2b0c8fd4</td>\n",
       "      <td>Normal</td>\n",
       "      <td>176.782776</td>\n",
       "      <td>4</td>\n",
       "    </tr>\n",
       "    <tr>\n",
       "      <th>4</th>\n",
       "      <td>75c18751-7a94-453e-86f5-67be2b0c8fd4</td>\n",
       "      <td>Normal</td>\n",
       "      <td>168.834653</td>\n",
       "      <td>5</td>\n",
       "    </tr>\n",
       "    <tr>\n",
       "      <th>...</th>\n",
       "      <td>...</td>\n",
       "      <td>...</td>\n",
       "      <td>...</td>\n",
       "      <td>...</td>\n",
       "    </tr>\n",
       "    <tr>\n",
       "      <th>114</th>\n",
       "      <td>75c18751-7a94-453e-86f5-67be2b0c8fd4</td>\n",
       "      <td>Normal</td>\n",
       "      <td>213.135195</td>\n",
       "      <td>115</td>\n",
       "    </tr>\n",
       "    <tr>\n",
       "      <th>115</th>\n",
       "      <td>75c18751-7a94-453e-86f5-67be2b0c8fd4</td>\n",
       "      <td>Normal</td>\n",
       "      <td>185.767645</td>\n",
       "      <td>116</td>\n",
       "    </tr>\n",
       "    <tr>\n",
       "      <th>116</th>\n",
       "      <td>75c18751-7a94-453e-86f5-67be2b0c8fd4</td>\n",
       "      <td>Normal</td>\n",
       "      <td>206.109261</td>\n",
       "      <td>117</td>\n",
       "    </tr>\n",
       "    <tr>\n",
       "      <th>117</th>\n",
       "      <td>75c18751-7a94-453e-86f5-67be2b0c8fd4</td>\n",
       "      <td>Normal</td>\n",
       "      <td>159.763575</td>\n",
       "      <td>118</td>\n",
       "    </tr>\n",
       "    <tr>\n",
       "      <th>118</th>\n",
       "      <td>75c18751-7a94-453e-86f5-67be2b0c8fd4</td>\n",
       "      <td>Normal</td>\n",
       "      <td>171.316666</td>\n",
       "      <td>119</td>\n",
       "    </tr>\n",
       "  </tbody>\n",
       "</table>\n",
       "<p>119 rows × 4 columns</p>\n",
       "</div>"
      ],
      "text/plain": [
       "                                 sensorID    type  sensorValue  cycle\n",
       "0    75c18751-7a94-453e-86f5-67be2b0c8fd4  Normal   197.638890      1\n",
       "1    75c18751-7a94-453e-86f5-67be2b0c8fd4  Normal   213.066811      2\n",
       "2    75c18751-7a94-453e-86f5-67be2b0c8fd4  Normal   161.423363      3\n",
       "3    75c18751-7a94-453e-86f5-67be2b0c8fd4  Normal   176.782776      4\n",
       "4    75c18751-7a94-453e-86f5-67be2b0c8fd4  Normal   168.834653      5\n",
       "..                                    ...     ...          ...    ...\n",
       "114  75c18751-7a94-453e-86f5-67be2b0c8fd4  Normal   213.135195    115\n",
       "115  75c18751-7a94-453e-86f5-67be2b0c8fd4  Normal   185.767645    116\n",
       "116  75c18751-7a94-453e-86f5-67be2b0c8fd4  Normal   206.109261    117\n",
       "117  75c18751-7a94-453e-86f5-67be2b0c8fd4  Normal   159.763575    118\n",
       "118  75c18751-7a94-453e-86f5-67be2b0c8fd4  Normal   171.316666    119\n",
       "\n",
       "[119 rows x 4 columns]"
      ]
     },
     "execution_count": 113,
     "metadata": {},
     "output_type": "execute_result"
    }
   ],
   "source": [
    "#check the agg data in BQ raw Table\n",
    "sql = 'SELECT   sensorID , case when sensorValue >= 215 then \"Anomaly\" else \"Normal\" end as type, sensorValue,row_number() over (order by windowStart) as cycle FROM `{}` '.format(bigquery_agg_table)\n",
    "query_job = client.query(sql)  # API request\n",
    "agg_df = query_job.to_dataframe()\n",
    "agg_df"
   ]
  },
  {
   "cell_type": "markdown",
   "metadata": {},
   "source": [
    "### Plot the results in a simple scatterplot chart \n",
    "\n",
    "Chart will display Anomalies in red color and Normal in Green color\n",
    "![plot](Images/plot.png)"
   ]
  },
  {
   "cell_type": "code",
   "execution_count": 126,
   "metadata": {},
   "outputs": [
    {
     "data": {
      "text/plain": [
       "<matplotlib.lines.Line2D at 0x7fd2cf5d4610>"
      ]
     },
     "execution_count": 126,
     "metadata": {},
     "output_type": "execute_result"
    },
    {
     "data": {
      "image/png": "[encoded data removed]",
      "text/plain": [
       "<Figure size 2000x1000 with 1 Axes>"
      ]
     },
     "metadata": {},
     "output_type": "display_data"
    }
   ],
   "source": [
    "c=['green' if g=='Normal' else 'red' for g in agg_df['type']]\n",
    "agg_df.plot(\n",
    "    kind=\"scatter\",\n",
    "    x=\"cycle\",\n",
    "    y=\"sensorValue\"  , c = c, s = 150,\n",
    "    figsize=(20, 10)    \n",
    "    )\n",
    "plt.axhline(y=215, color='black', linestyle='-',linewidth=3)\n"
   ]
  },
  {
   "cell_type": "markdown",
   "metadata": {},
   "source": [
    "# Congratulations!!!\n",
    "End of lab\n"
   ]
  },
  {
   "cell_type": "code",
   "execution_count": null,
   "metadata": {},
   "outputs": [],
   "source": []
  }
 ],
 "metadata": {
  "kernelspec": {
   "display_name": "01. Apache Beam 2.45.0 for Python 3",
   "language": "python",
   "name": "01-apache-beam-2.45.0"
  },
  "language_info": {
   "codemirror_mode": {
    "name": "ipython",
    "version": 3
   },
   "file_extension": ".py",
   "mimetype": "text/x-python",
   "name": "python",
   "nbconvert_exporter": "python",
   "pygments_lexer": "ipython3",
   "version": "3.8.10"
  }
 },
 "nbformat": 4,
 "nbformat_minor": 4
}
